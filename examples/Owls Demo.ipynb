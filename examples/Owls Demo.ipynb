{
 "cells": [
  {
   "cell_type": "code",
   "execution_count": null,
   "metadata": {
    "collapsed": false
   },
   "outputs": [],
   "source": [
    "import Owls as ow"
   ]
  },
  {
   "cell_type": "code",
   "execution_count": null,
   "metadata": {
    "collapsed": true
   },
   "outputs": [],
   "source": [
    "# Where can I get it?:\n",
    "# git@github.com:greole/owls.git"
   ]
  },
  {
   "cell_type": "code",
   "execution_count": null,
   "metadata": {
    "collapsed": true
   },
   "outputs": [],
   "source": [
    "# Who should use Owls\n",
    "# everyone annoyed by how gnuplot and OpenFoam fit together\n",
    "# everyone who likes python and needs more packages\n",
    "# might work for your cfd code as well\n",
    "# everyone else sorry for wasting your time"
   ]
  },
  {
   "cell_type": "code",
   "execution_count": null,
   "metadata": {
    "collapsed": false
   },
   "outputs": [],
   "source": [
    "# FIXME: bokeh sometimes failes to generate output\n",
    "# aclosing the browser tab and reopen the notebook \n",
    "# seems to help\n",
    "import bokeh.plotting as bk\n",
    "from bokeh.plotting import output_notebook\n",
    "output_notebook()"
   ]
  },
  {
   "cell_type": "markdown",
   "metadata": {},
   "source": [
    "# Installation"
   ]
  },
  {
   "cell_type": "code",
   "execution_count": null,
   "metadata": {
    "collapsed": true
   },
   "outputs": [],
   "source": [
    "# github greole owls\n",
    "# sudo apt-get install iypthon python-pandas python-numpy \n",
    "# pip install bokeh\n",
    "# pip install owls          # from pip package probably outdated\n",
    "# python setup.py install   # or development version from github"
   ]
  },
  {
   "cell_type": "markdown",
   "metadata": {},
   "source": [
    "# Data Import"
   ]
  },
  {
   "cell_type": "code",
   "execution_count": null,
   "metadata": {
    "collapsed": true
   },
   "outputs": [],
   "source": [
    "# Examples of consisten plot properties\n",
    "# props.select('u','xlabel')\n",
    "# props.insert('u',{'xlabel':'vel in [m/s]'})"
   ]
  },
  {
   "cell_type": "code",
   "execution_count": null,
   "metadata": {
    "collapsed": false
   },
   "outputs": [],
   "source": [
    "# sets\n",
    "# FIXME: recieved StopIteration on relative path other then '.'\n",
    "# FIXME: Make sure that Salar changes back to original dir after reading files\n",
    "# or even dont change path anyway\n",
    "#props = PlotProperties()\n",
    "s1 = ow.read_sets(\n",
    "    folder='./buoyantCavity/', \n",
    "    name='foo',\n",
    "    )\n",
    "#s2 = read_sets(folder='/home/go/documents/code/FoamAna/examples/buoyantCavity/', name='bar', plot_properties=props)\n",
    "#sets = Cases([s1,s1])"
   ]
  },
  {
   "cell_type": "code",
   "execution_count": null,
   "metadata": {
    "collapsed": false
   },
   "outputs": [],
   "source": [
    "s1"
   ]
  },
  {
   "cell_type": "code",
   "execution_count": null,
   "metadata": {
    "collapsed": false
   },
   "outputs": [],
   "source": [
    "#FIXME import initial conditions\n",
    "c1 = ow.read_eul(\n",
    "    files=['mut','U','k', 'alphat','omega','T'],\n",
    "    folder='./buoyantCavity/', \n",
    "    name='baz',\n",
    "    skiplines=25,\n",
    "    )"
   ]
  },
  {
   "cell_type": "code",
   "execution_count": null,
   "metadata": {
    "collapsed": false
   },
   "outputs": [],
   "source": [
    "c1"
   ]
  },
  {
   "cell_type": "markdown",
   "metadata": {},
   "source": [
    "# Data Selection\n",
    "## Row selection"
   ]
  },
  {
   "cell_type": "code",
   "execution_count": null,
   "metadata": {
    "collapsed": true
   },
   "outputs": [],
   "source": [
    "#s1"
   ]
  },
  {
   "cell_type": "code",
   "execution_count": null,
   "metadata": {
    "collapsed": false
   },
   "outputs": [],
   "source": [
    "s1['T'] # select a full row, it can be passed to any numpy function or plotting library"
   ]
  },
  {
   "cell_type": "code",
   "execution_count": null,
   "metadata": {
    "collapsed": false
   },
   "outputs": [],
   "source": [
    "type(s1['T'])#.describe() # selected rows provide inherited pandas describe() method"
   ]
  },
  {
   "cell_type": "code",
   "execution_count": null,
   "metadata": {
    "collapsed": false
   },
   "outputs": [],
   "source": [
    "s1.latest"
   ]
  },
  {
   "cell_type": "code",
   "execution_count": null,
   "metadata": {
    "collapsed": false
   },
   "outputs": [],
   "source": [
    "s1.times"
   ]
  },
  {
   "cell_type": "code",
   "execution_count": null,
   "metadata": {
    "collapsed": false
   },
   "outputs": [],
   "source": [
    "s1.locations"
   ]
  },
  {
   "cell_type": "markdown",
   "metadata": {},
   "source": [
    "## Filtered Selection"
   ]
  },
  {
   "cell_type": "code",
   "execution_count": null,
   "metadata": {
    "collapsed": false
   },
   "outputs": [],
   "source": [
    "s1.location('y0.1')"
   ]
  },
  {
   "cell_type": "code",
   "execution_count": null,
   "metadata": {
    "collapsed": false
   },
   "outputs": [],
   "source": [
    "# method calls can be chained as long as they return a FoamFrame\n",
    "\n",
    "s1.latest.location('y0.1').describe()"
   ]
  },
  {
   "cell_type": "code",
   "execution_count": null,
   "metadata": {
    "collapsed": false
   },
   "outputs": [],
   "source": [
    "# for long chains I prefer javascript like notation\n",
    "\n",
    "(s1\n",
    " .latest\n",
    " .location('y0.1'))"
   ]
  },
  {
   "cell_type": "markdown",
   "metadata": {},
   "source": [
    "## Data Filtering"
   ]
  },
  {
   "cell_type": "code",
   "execution_count": null,
   "metadata": {
    "collapsed": false
   },
   "outputs": [],
   "source": [
    "# Data can be filtered by custom filter functions\n",
    "# Here I prefer lambda functions since notation is very concise\n",
    "\n",
    "s1.latest.filter(name=\"T\", field=lambda x: 291<x<291.5) # can be chained and row select"
   ]
  },
  {
   "cell_type": "markdown",
   "metadata": {},
   "source": [
    "## Data Faceting"
   ]
  },
  {
   "cell_type": "code",
   "execution_count": null,
   "metadata": {
    "collapsed": true
   },
   "outputs": [],
   "source": [
    "# so far we have only selected or\n",
    "# filtered data, lets group it now\n",
    "# to generate multiple plots"
   ]
  },
  {
   "cell_type": "code",
   "execution_count": null,
   "metadata": {
    "collapsed": false
   },
   "outputs": [],
   "source": [
    "# simple facetting by location\n",
    "\n",
    "s1.by_index('Loc')"
   ]
  },
  {
   "cell_type": "code",
   "execution_count": null,
   "metadata": {
    "collapsed": false
   },
   "outputs": [],
   "source": [
    "s1.by(name='Loc', func=lambda x: x)"
   ]
  },
  {
   "cell_type": "markdown",
   "metadata": {},
   "source": [
    "# Inline Plotting with Bokeh"
   ]
  },
  {
   "cell_type": "code",
   "execution_count": null,
   "metadata": {
    "collapsed": true
   },
   "outputs": [],
   "source": [
    "# Despite the possibility to pass selected data to any common\n",
    "# plot library like (matplotlib, ggplot, seaborn) plots can be\n",
    "# directly inlined using bokeh\n",
    "# by the .show() .plot() .scatter() methods"
   ]
  },
  {
   "cell_type": "code",
   "execution_count": null,
   "metadata": {
    "collapsed": false
   },
   "outputs": [],
   "source": [
    "sp=s1.latest.by_index('Loc').show(y=['T', 'u'], overlay=\"Group\")\n",
    "bk.show(sp)"
   ]
  },
  {
   "cell_type": "code",
   "execution_count": null,
   "metadata": {
    "collapsed": false
   },
   "outputs": [],
   "source": [
    "sp=s1.latest.by_index('Loc').show(y=['T', 'u'], overlay=\"Field\")\n",
    "bk.show(sp)"
   ]
  },
  {
   "cell_type": "code",
   "execution_count": null,
   "metadata": {
    "collapsed": false
   },
   "outputs": [],
   "source": [
    "s1.by(name='Loc', func=lambda x: (0.1 if '0.1' in x else 'other'))"
   ]
  },
  {
   "cell_type": "code",
   "execution_count": null,
   "metadata": {
    "collapsed": false
   },
   "outputs": [],
   "source": [
    "s1.by(name='T', func=lambda x: ('T_high' if float(x) > float(300.0) else 'T_low'))"
   ]
  },
  {
   "cell_type": "code",
   "execution_count": null,
   "metadata": {
    "collapsed": false
   },
   "outputs": [],
   "source": [
    "# plot multiple rows\n",
    "p = s1.latest.location('y0.1').plot(['u', 'w', 'v'])\n",
    "bk.show(p)"
   ]
  },
  {
   "cell_type": "code",
   "execution_count": null,
   "metadata": {
    "collapsed": true
   },
   "outputs": [],
   "source": [
    "# Plots can be decorated through **kwargs\n",
    "# FIXME since bokeh 0.10 this doesnt work anymore\n",
    "#s = s1.latest.scatter('Time','T', x_label=\"Position [m]\", y_label=\"Temp [K]\", legend=\"foo\")\n",
    "#bk.show(s)"
   ]
  },
  {
   "cell_type": "code",
   "execution_count": null,
   "metadata": {
    "collapsed": true
   },
   "outputs": [],
   "source": [
    "# Axis labels stay consistent \n",
    "#bk.figure()\n",
    "#s = s1.latest.scatter('u', y_label=\"Velocity [m/s]\", legend=\"bla\")\n",
    "#bk.show(s)"
   ]
  },
  {
   "cell_type": "code",
   "execution_count": null,
   "metadata": {
    "collapsed": false
   },
   "outputs": [],
   "source": [
    "# Plot over multiple time folders\n",
    "bk.figure()\n",
    "s=(s1.location('y0.1')\n",
    "   .at('Pos', '0.0608')\n",
    "   .scatter(x='Time',y='T'))\n",
    "bk.show(s)"
   ]
  },
  {
   "cell_type": "code",
   "execution_count": null,
   "metadata": {
    "collapsed": true
   },
   "outputs": [],
   "source": [
    "#bk.figure()\n",
    "#pos = s1.by(name='Time', index=lambda x: str(x))\n",
    "#s = pos.scatter(x='k', y='mut', overlay=True, alpha=0.25)\n",
    "#bk.show(s)"
   ]
  },
  {
   "cell_type": "markdown",
   "metadata": {},
   "source": [
    "## Plotting Part II Matplotlib"
   ]
  },
  {
   "cell_type": "markdown",
   "metadata": {},
   "source": [
    "# Data Manipulation"
   ]
  },
  {
   "cell_type": "code",
   "execution_count": null,
   "metadata": {
    "collapsed": true
   },
   "outputs": [],
   "source": [
    "s1['w']"
   ]
  },
  {
   "cell_type": "markdown",
   "metadata": {},
   "source": [
    "# Logfile processing"
   ]
  },
  {
   "cell_type": "code",
   "execution_count": null,
   "metadata": {
    "collapsed": true
   },
   "outputs": [],
   "source": [
    "l1 = ow.read_log(\n",
    "    folder='./buoyantCavity',\n",
    "    log_name='log.buoyant',\n",
    "    keys={'ExecutionTime': ['ExecTime','SimTime'],\n",
    "          'time step continuity errors': ['ContErrLocal', 'ContErrGlobal', 'ContErrSum']},\n",
    "    plot_properties = ow.PlotProperties()\n",
    ")"
   ]
  },
  {
   "cell_type": "code",
   "execution_count": null,
   "metadata": {
    "collapsed": true
   },
   "outputs": [],
   "source": [
    "l1"
   ]
  },
  {
   "cell_type": "code",
   "execution_count": null,
   "metadata": {
    "collapsed": true
   },
   "outputs": [],
   "source": [
    "bk.show(l1.show(x='Id', y='ContErrSum'))"
   ]
  },
  {
   "cell_type": "code",
   "execution_count": null,
   "metadata": {
    "collapsed": false
   },
   "outputs": [],
   "source": []
  }
 ],
 "metadata": {
  "hide_input": true,
  "kernelspec": {
   "display_name": "Python 3",
   "language": "python",
   "name": "python3"
  },
  "language_info": {
   "codemirror_mode": {
    "name": "ipython",
    "version": 3
   },
   "file_extension": ".py",
   "mimetype": "text/x-python",
   "name": "python",
   "nbconvert_exporter": "python",
   "pygments_lexer": "ipython3",
   "version": "3.4.2"
  }
 },
 "nbformat": 4,
 "nbformat_minor": 0
}
